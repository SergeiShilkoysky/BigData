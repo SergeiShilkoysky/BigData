{
  "cells": [
    {
      "cell_type": "markdown",
      "metadata": {
        "id": "view-in-github",
        "colab_type": "text"
      },
      "source": [
        "<a href=\"https://colab.research.google.com/github/SergeiShilkoysky/BigData/blob/main/hw1_2.ipynb\" target=\"_parent\"><img src=\"https://colab.research.google.com/assets/colab-badge.svg\" alt=\"Open In Colab\"/></a>"
      ]
    },
    {
      "cell_type": "markdown",
      "source": [
        "Задача: нахождение суммы элементов массива из\n",
        "1000000 целых чисел."
      ],
      "metadata": {
        "id": "dSCZYSMrTtEM"
      }
    },
    {
      "cell_type": "code",
      "source": [
        "import multiprocessing\n",
        "import threading\n",
        "import time\n",
        "from random import randint\n",
        "import asyncio\n",
        "\n",
        "COUNT = 10  # количество потоков, процессов, задач"
      ],
      "metadata": {
        "id": "aLFfLE9W2jmF"
      },
      "execution_count": null,
      "outputs": []
    },
    {
      "cell_type": "code",
      "source": [
        "def generate_array():\n",
        "    arr = [randint(1, 100) for i in range(1_000_000)]\n",
        "    # arr = [19, 25, 73, 17, 11, 14, 15, 18, 2, 23, 25, 27, 30, 34, 60, 555]\n",
        "    return arr\n",
        "\n",
        "sum_arr = 0"
      ],
      "metadata": {
        "id": "Q0gP9UYc26t6"
      },
      "execution_count": null,
      "outputs": []
    },
    {
      "cell_type": "markdown",
      "source": [
        "Синхронный подход:"
      ],
      "metadata": {
        "id": "xRC26u9N3kWR"
      }
    },
    {
      "cell_type": "code",
      "source": [
        "def sum_array(arr, num):\n",
        "    global sum_arr\n",
        "    for i in arr:\n",
        "        sum_arr += i\n",
        "    print(f\"Сумма элементов массива ({num}): {sum_arr}\")"
      ],
      "metadata": {
        "id": "MSJTAXND3hcM"
      },
      "execution_count": null,
      "outputs": []
    },
    {
      "cell_type": "code",
      "source": [
        "%%time\n",
        "arr = generate_array()\n",
        "print('\\t Старт синхронного метода')\n",
        "sum_arr = 0\n",
        "sum_array(arr, 1)"
      ],
      "metadata": {
        "colab": {
          "base_uri": "https://localhost:8080/"
        },
        "id": "rreimFSxSO3B",
        "outputId": "75b34b47-3348-4a00-e701-287ba5356cca"
      },
      "execution_count": null,
      "outputs": [
        {
          "output_type": "stream",
          "name": "stdout",
          "text": [
            "\t Старт синхронного метода\n",
            "Сумма элементов массива (1): 50520255\n",
            "CPU times: user 895 ms, sys: 803 µs, total: 895 ms\n",
            "Wall time: 900 ms\n"
          ]
        }
      ]
    },
    {
      "cell_type": "markdown",
      "source": [
        "Используем многопоточность, многопроцессорность\n",
        "и асинхронность."
      ],
      "metadata": {
        "id": "2ppZ6FI93P_h"
      }
    },
    {
      "cell_type": "code",
      "source": [
        "async def sum_array_async(arr, num):\n",
        "    global sum_arr\n",
        "    for i in arr:\n",
        "        sum_arr += i\n",
        "    print(f\"Сумма элементов массива ({num}): {sum_arr}\")"
      ],
      "metadata": {
        "id": "aBa-fXxFg40_"
      },
      "execution_count": null,
      "outputs": []
    },
    {
      "cell_type": "code",
      "source": [
        "def sum_use_threading(arr):\n",
        "    threads = []\n",
        "    start_time = time.time()\n",
        "    # Разбиваем на массив на COUNT частей (по количеству потоков)\n",
        "    for thread_part in range(COUNT):\n",
        "        thread_start = int(thread_part * (len(arr) / COUNT))\n",
        "        thread_end = int((thread_part + 1) * (len(arr) / COUNT))\n",
        "        t = threading.Thread(target=sum_array(arr[thread_start:thread_end], thread_part + 1), args=(arr,))\n",
        "        threads.append(t)\n",
        "        t.start()\n",
        "    for t in threads:\n",
        "        t.join()\n",
        "    end_time = time.time() - start_time\n",
        "    print('завершение  потоков')\n",
        "    print('результат суммирования массива:', sum_arr)\n",
        "    print(f\"Общее время работы при многопоточном подходе: {end_time:.10f} seconds \\n\")\n",
        "    return end_time"
      ],
      "metadata": {
        "id": "gR0mhnukHlI5"
      },
      "execution_count": null,
      "outputs": []
    },
    {
      "cell_type": "code",
      "source": [
        "%%time\n",
        "sum_arr = 0\n",
        "\n",
        "print('\\t Старт потоков')\n",
        "sum_use_threading(arr)"
      ],
      "metadata": {
        "colab": {
          "base_uri": "https://localhost:8080/"
        },
        "id": "Z0xdJXWOSFst",
        "outputId": "dbde645c-732a-4832-c3a3-9c2fb13a5e56"
      },
      "execution_count": null,
      "outputs": [
        {
          "output_type": "stream",
          "name": "stdout",
          "text": [
            "\t Старт потоков\n",
            "Сумма элементов массива (1): 5056951\n",
            "Сумма элементов массива (2): 10112409\n",
            "Сумма элементов массива (3): 15162923\n",
            "Сумма элементов массива (4): 20218515\n",
            "Сумма элементов массива (5): 25269775\n",
            "Сумма элементов массива (6): 30306636\n",
            "Сумма элементов массива (7): 35372566\n",
            "Сумма элементов массива (8): 40427804\n",
            "Сумма элементов массива (9): 45478890\n",
            "Сумма элементов массива (10): 50520255\n",
            "завершение  потоков\n",
            "результат суммирования массива: 50520255\n",
            "Общее время работы при многопоточном подходе: 0.0931398869 seconds \n",
            "\n",
            "CPU times: user 89.7 ms, sys: 4.03 ms, total: 93.7 ms\n",
            "Wall time: 93.4 ms\n"
          ]
        },
        {
          "output_type": "execute_result",
          "data": {
            "text/plain": [
              "0.0931398868560791"
            ]
          },
          "metadata": {},
          "execution_count": 42
        }
      ]
    },
    {
      "cell_type": "code",
      "source": [
        "def sum_with_process(arr):\n",
        "    start_time = time.time()\n",
        "    processes = []\n",
        "    for proc_part in range(COUNT):\n",
        "        proc_start = int(proc_part * (len(arr) / COUNT))\n",
        "        proc_end = int((proc_part + 1) * (len(arr) / COUNT))\n",
        "        p = multiprocessing.Process(target=sum_array(arr[proc_start:proc_end], proc_part + 1), args=(arr,))\n",
        "        processes.append(p)\n",
        "        p.start()\n",
        "    for p in processes:\n",
        "        p.join()\n",
        "    end_time = time.time() - start_time\n",
        "    print('завершение  процессов')\n",
        "    print('результат суммирования массива:', sum_arr)\n",
        "    print(f\"Общее время работы при мультипроцессорном подходе: {end_time:.10f} seconds \\n\")\n",
        "    return end_time"
      ],
      "metadata": {
        "id": "t4wXjPBd4zaY"
      },
      "execution_count": null,
      "outputs": []
    },
    {
      "cell_type": "code",
      "source": [
        "%%time\n",
        "sum_arr = 0\n",
        "print('\\t Старт процессов')\n",
        "\n",
        "sum_with_process(arr)"
      ],
      "metadata": {
        "colab": {
          "base_uri": "https://localhost:8080/"
        },
        "id": "uzCorxdmSIau",
        "outputId": "32179aec-d391-4d52-ca07-4f3f00ee4b3d"
      },
      "execution_count": null,
      "outputs": [
        {
          "output_type": "stream",
          "name": "stdout",
          "text": [
            "\t Старт процессов\n",
            "Сумма элементов массива (1): 5056951\n",
            "Сумма элементов массива (2): 10112409\n",
            "Сумма элементов массива (3): 15162923\n",
            "Сумма элементов массива (4): 20218515\n",
            "Сумма элементов массива (5): 25269775\n",
            "Сумма элементов массива (6): 30306636\n",
            "Сумма элементов массива (7): 35372566\n",
            "Сумма элементов массива (8): 40427804\n",
            "Сумма элементов массива (9): 45478890\n",
            "Сумма элементов массива (10): 50520255\n",
            "завершение  процессов\n",
            "результат суммирования массива: 50520255\n",
            "Общее время работы при мультипроцессорном подходе: 0.2336764336 seconds \n",
            "\n",
            "CPU times: user 150 ms, sys: 70.3 ms, total: 220 ms\n",
            "Wall time: 236 ms\n"
          ]
        },
        {
          "output_type": "execute_result",
          "data": {
            "text/plain": [
              "0.23367643356323242"
            ]
          },
          "metadata": {},
          "execution_count": 43
        }
      ]
    },
    {
      "cell_type": "code",
      "source": [
        "async def sum_with_async(arr):\n",
        "    start_time = time.time()\n",
        "    tasks = []\n",
        "    sum_arr = 0\n",
        "    for assync_part in range(COUNT):\n",
        "        assync_start = int(assync_part * (len(arr) / COUNT))\n",
        "        assync_end = int((assync_part + 1) * (len(arr) / COUNT))\n",
        "        task = asyncio.ensure_future(sum_array_async(arr[assync_start:assync_end], assync_part + 1))\n",
        "        tasks.append(task)\n",
        "    await asyncio.gather(*tasks)\n",
        "    end_time = time.time() - start_time\n",
        "    print('завершение  асинхронного метода')\n",
        "    print('результат суммирования массива:', sum_arr)\n",
        "    print(f\"Общее время работы при асинхронном  подходе: {end_time:.10f} seconds \\n\")\n",
        "    return end_time"
      ],
      "metadata": {
        "id": "xjtRao1142Yx"
      },
      "execution_count": null,
      "outputs": []
    },
    {
      "cell_type": "code",
      "source": [
        "from asyncio import get_event_loop"
      ],
      "metadata": {
        "id": "HanWQHY2CpPZ"
      },
      "execution_count": null,
      "outputs": []
    },
    {
      "cell_type": "code",
      "source": [
        "%%time\n",
        "arr = generate_array()\n",
        "print('\\t Старт асинхронного метода')\n",
        "\n",
        "loop = asyncio.get_event_loop()\n",
        "# loop.run_until_complete(sum_with_async(arr)) # выдает RuntimeError: This event loop is already running. В PyCharm версия 3.12 команда отрабатывает"
      ],
      "metadata": {
        "colab": {
          "base_uri": "https://localhost:8080/"
        },
        "id": "ZFFXhDbJ47ZY",
        "outputId": "7b3dccaf-56ce-4b1f-ccc5-87e39062987d"
      },
      "execution_count": null,
      "outputs": [
        {
          "output_type": "stream",
          "name": "stdout",
          "text": [
            "\t Старт асинхронного метода\n",
            "CPU times: user 816 ms, sys: 5.55 ms, total: 822 ms\n",
            "Wall time: 824 ms\n"
          ]
        }
      ]
    }
  ],
  "metadata": {
    "colab": {
      "provenance": [],
      "name": "hw1_2.ipynb",
      "include_colab_link": true
    },
    "kernelspec": {
      "display_name": "Python 3",
      "name": "python3"
    },
    "language_info": {
      "name": "python"
    }
  },
  "nbformat": 4,
  "nbformat_minor": 0
}