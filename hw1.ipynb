{
 "cells": [
  {
   "cell_type": "markdown",
   "metadata": {
    "id": "dSCZYSMrTtEM"
   },
   "source": [
    "Задача: сделайте mapper и reducer, чтобы посчитать среднее и дисперсию оценок за фильм."
   ]
  },
  {
   "cell_type": "code",
   "execution_count": 1,
   "metadata": {
    "colab": {
     "base_uri": "https://localhost:8080/"
    },
    "id": "1-iLZYG5JkTc",
    "outputId": "b2da6048-ca8d-4e12-c95f-51b8a5887aac"
   },
   "outputs": [
    {
     "name": "stdout",
     "output_type": "stream",
     "text": [
      "Requirement already satisfied: opendatasets in /usr/local/lib/python3.7/dist-packages (0.1.22)\n",
      "Requirement already satisfied: click in /usr/local/lib/python3.7/dist-packages (from opendatasets) (8.1.7)\n",
      "Requirement already satisfied: tqdm in /usr/local/lib/python3.7/dist-packages (from opendatasets) (4.66.5)\n",
      "Requirement already satisfied: kaggle in /usr/local/lib/python3.7/dist-packages (from opendatasets) (1.6.17)\n",
      "Requirement already satisfied: importlib-metadata in /usr/local/lib/python3.7/dist-packages (from click->opendatasets) (3.10.1)\n",
      "Requirement already satisfied: typing-extensions>=3.6.4 in /usr/local/lib/python3.7/dist-packages (from importlib-metadata->click->opendatasets) (3.10.0.0)\n",
      "Requirement already satisfied: zipp>=0.5 in /usr/local/lib/python3.7/dist-packages (from importlib-metadata->click->opendatasets) (3.5.0)\n",
      "Requirement already satisfied: requests in /usr/local/lib/python3.7/dist-packages (from kaggle->opendatasets) (2.26.0)\n",
      "Requirement already satisfied: bleach in /usr/local/lib/python3.7/dist-packages (from kaggle->opendatasets) (3.3.1)\n",
      "Requirement already satisfied: urllib3 in /usr/local/lib/python3.7/dist-packages (from kaggle->opendatasets) (1.26.6)\n",
      "Requirement already satisfied: certifi>=2023.7.22 in /usr/local/lib/python3.7/dist-packages (from kaggle->opendatasets) (2024.8.30)\n",
      "Requirement already satisfied: six>=1.10 in /usr/lib/python3/dist-packages (from kaggle->opendatasets) (1.12.0)\n",
      "Requirement already satisfied: python-dateutil in /usr/local/lib/python3.7/dist-packages (from kaggle->opendatasets) (2.8.2)\n",
      "Requirement already satisfied: python-slugify in /usr/local/lib/python3.7/dist-packages (from kaggle->opendatasets) (8.0.4)\n",
      "Requirement already satisfied: webencodings in /usr/local/lib/python3.7/dist-packages (from bleach->kaggle->opendatasets) (0.5.1)\n",
      "Requirement already satisfied: packaging in /usr/local/lib/python3.7/dist-packages (from bleach->kaggle->opendatasets) (21.0)\n",
      "Requirement already satisfied: pyparsing>=2.0.2 in /usr/local/lib/python3.7/dist-packages (from packaging->bleach->kaggle->opendatasets) (2.4.7)\n",
      "Requirement already satisfied: text-unidecode>=1.3 in /usr/local/lib/python3.7/dist-packages (from python-slugify->kaggle->opendatasets) (1.3)\n",
      "Requirement already satisfied: charset-normalizer~=2.0.0 in /usr/local/lib/python3.7/dist-packages (from requests->kaggle->opendatasets) (2.0.4)\n",
      "Requirement already satisfied: idna<4,>=2.5 in /usr/local/lib/python3.7/dist-packages (from requests->kaggle->opendatasets) (3.2)\n",
      "\u001b[33mWARNING: Running pip as the 'root' user can result in broken permissions and conflicting behaviour with the system package manager. It is recommended to use a virtual environment instead: https://pip.pypa.io/warnings/venv\u001b[0m\n",
      "\u001b[33mWARNING: You are using pip version 21.2.2; however, version 24.0 is available.\n",
      "You should consider upgrading via the '/usr/bin/python3 -m pip install --upgrade pip' command.\u001b[0m\n"
     ]
    }
   ],
   "source": [
    "!pip install opendatasets"
   ]
  },
  {
   "cell_type": "code",
   "execution_count": 2,
   "metadata": {
    "id": "0PhWn1yjFd1L"
   },
   "outputs": [],
   "source": [
    "import opendatasets as od\n",
    "import pandas as pd\n",
    "import time\n",
    "from pathlib import Path"
   ]
  },
  {
   "cell_type": "code",
   "execution_count": 3,
   "metadata": {
    "id": "DBGNuitWJy4z"
   },
   "outputs": [],
   "source": [
    "import json\n",
    "from functools import reduce"
   ]
  },
  {
   "cell_type": "code",
   "execution_count": 4,
   "metadata": {
    "colab": {
     "base_uri": "https://localhost:8080/"
    },
    "id": "qeWSaWkZRFxY",
    "outputId": "a38a3768-8529-4482-951f-8b6b84089592"
   },
   "outputs": [
    {
     "name": "stdout",
     "output_type": "stream",
     "text": [
      "Skipping, found downloaded files in \"./imdb-user-reviews\" (use force=True to force download)\n"
     ]
    }
   ],
   "source": [
    "dataset_path = Path('imdb-user-reviews', 'song_lyrics.csv')\n",
    "if not dataset_path.is_file():\n",
    "    od.download('https://www.kaggle.com/datasets/sadmadlad/imdb-user-reviews')"
   ]
  },
  {
   "cell_type": "code",
   "execution_count": 5,
   "metadata": {
    "colab": {
     "base_uri": "https://localhost:8080/"
    },
    "id": "F79sV9Iqxzq9",
    "outputId": "dc7154b0-667c-4fcc-8fca-9a590236a7f6"
   },
   "outputs": [
    {
     "name": "stdout",
     "output_type": "stream",
     "text": [
      "cat: imdb-user-reviews/: Is a directory\n"
     ]
    }
   ],
   "source": [
    "!cat imdb-user-reviews/"
   ]
  },
  {
   "cell_type": "code",
   "execution_count": 6,
   "metadata": {
    "id": "znWLMJtDZcSt"
   },
   "outputs": [],
   "source": [
    "def calc_mean_variance_movieScores():\n",
    "  n, mean, M2 = 0, 0.0, 0\n",
    "  for path in Path('imdb-user-reviews').glob('**/*'):\n",
    "      if path.is_file() and path.suffix == '.json':\n",
    "          with open(path, 'r') as f:\n",
    "              info = json.load(f)\n",
    "          score = float(info['movieIMDbRating'])\n",
    "          n += 1\n",
    "          delta = score - mean\n",
    "          mean += delta / n\n",
    "          M2 += delta * (score - mean)\n",
    "\n",
    "  print(mean, (M2 / n) ** (1/2))"
   ]
  },
  {
   "cell_type": "code",
   "execution_count": 7,
   "metadata": {},
   "outputs": [],
   "source": [
    "# Соберем mapper и reducer: 1 вариант    "
   ]
  },
  {
   "cell_type": "code",
   "execution_count": 8,
   "metadata": {
    "id": "bJc0HshUx7Ed"
   },
   "outputs": [],
   "source": [
    "def mapper(path):\n",
    "    if path.is_file() and path.suffix == '.json':\n",
    "      with open(path, 'r') as f:\n",
    "        info = json.load(f)\n",
    "      return (float(info['movieIMDbRating']), )\n",
    "\n",
    "\n",
    "def reducer(score_data1, score_data2):\n",
    "    if score_data1 is None and score_data2 is None:\n",
    "      return None\n",
    "    elif score_data1 is None:\n",
    "      return score_data2\n",
    "    elif score_data2 is None:\n",
    "      return score_data1\n",
    "    else:\n",
    "      scores = []\n",
    "      if len(score_data1) == 1:\n",
    "        n, mean, M2 = 0, 0.0, 0\n",
    "        scores.append(score_data1[0])\n",
    "      else:\n",
    "        n, mean, M2 = score_data1\n",
    "      scores.append(score_data2[0])\n",
    "      for score in scores:\n",
    "        n += 1\n",
    "        delta = score - mean\n",
    "        mean += delta / n\n",
    "        M2 += delta * (score - mean)\n",
    "      return n, mean, M2"
   ]
  },
  {
   "cell_type": "code",
   "execution_count": 9,
   "metadata": {
    "colab": {
     "base_uri": "https://localhost:8080/"
    },
    "id": "dw3x7rVqbM7D",
    "outputId": "2b96ca6d-b8c8-4fad-b70a-4c7e5b7e542a"
   },
   "outputs": [],
   "source": [
    "# @title Синхронный подход:"
   ]
  },
  {
   "cell_type": "code",
   "execution_count": 10,
   "metadata": {},
   "outputs": [
    {
     "name": "stdout",
     "output_type": "stream",
     "text": [
      "8.03 1.0517128885774865\n",
      "CPU times: user 6.14 ms, sys: 16.4 ms, total: 22.6 ms\n",
      "Wall time: 163 ms\n"
     ]
    }
   ],
   "source": [
    "%%time\n",
    "calc_mean_variance_movieScores()"
   ]
  },
  {
   "cell_type": "code",
   "execution_count": 11,
   "metadata": {},
   "outputs": [],
   "source": [
    "# @title Параллельная обработка с использованием map и reduce:"
   ]
  },
  {
   "cell_type": "code",
   "execution_count": 12,
   "metadata": {
    "colab": {
     "base_uri": "https://localhost:8080/"
    },
    "id": "aBa-fXxFg40_",
    "outputId": "73e1f0d0-dbc1-4ee7-d018-5b38eff23874"
   },
   "outputs": [
    {
     "name": "stdout",
     "output_type": "stream",
     "text": [
      "8.03 1.0517128885774865\n",
      "CPU times: user 5.7 ms, sys: 16 ms, total: 21.7 ms\n",
      "Wall time: 139 ms\n"
     ]
    }
   ],
   "source": [
    "%%time\n",
    "n, mean, M2 = reduce(reducer, map(mapper, Path('imdb-user-reviews').glob('**/*')))\n",
    "print(mean, (M2 / n) ** (1/2))"
   ]
  },
  {
   "cell_type": "code",
   "execution_count": 23,
   "metadata": {
    "colab": {
     "base_uri": "https://localhost:8080/"
    },
    "id": "gR0mhnukHlI5",
    "outputId": "3eb07f89-ceb0-4a9c-bc19-59e0ff987f3f"
   },
   "outputs": [],
   "source": [
    "# @title Параллельная обработка с помощью joblib:"
   ]
  },
  {
   "cell_type": "code",
   "execution_count": 13,
   "metadata": {
    "id": "2sX_l3yyWeu7"
   },
   "outputs": [],
   "source": [
    "from joblib import Parallel, delayed\n",
    "import math"
   ]
  },
  {
   "cell_type": "code",
   "execution_count": 14,
   "metadata": {
    "colab": {
     "base_uri": "https://localhost:8080/"
    },
    "id": "gR0mhnukHlI5",
    "outputId": "3eb07f89-ceb0-4a9c-bc19-59e0ff987f3f"
   },
   "outputs": [
    {
     "name": "stdout",
     "output_type": "stream",
     "text": [
      "8.03 1.0517128885774865\n",
      "CPU times: user 76.9 ms, sys: 45.7 ms, total: 123 ms\n",
      "Wall time: 603 ms\n"
     ]
    }
   ],
   "source": [
    "%%time\n",
    "n, mean, M2 = reduce(reducer, Parallel(n_jobs=2)(delayed(mapper)(path) for path in Path ('imdb-user-reviews').glob('**/*')))\n",
    "print(mean, (M2 / n) ** (1/2))"
   ]
  },
  {
   "cell_type": "code",
   "execution_count": 15,
   "metadata": {},
   "outputs": [],
   "source": [
    "# Соберем mapper и reducer: 2й вариант    "
   ]
  },
  {
   "cell_type": "code",
   "execution_count": 16,
   "metadata": {},
   "outputs": [],
   "source": [
    "def mapper(path):\n",
    "    if path.is_file() and path.suffix == '.json':\n",
    "        with open(path, 'r') as f:\n",
    "            info = json.load(f)\n",
    "        score = float(info['movieIMDbRating'])\n",
    "        return (score, 1)\n",
    "\n",
    "def reducer(score_data1, score_data2):\n",
    "    if score_data1 is None:\n",
    "        return score_data2\n",
    "    elif score_data2 is None:\n",
    "        return score_data1\n",
    "\n",
    "    sum1, count1 = score_data1\n",
    "    sum2, count2 = score_data2\n",
    "\n",
    "    total_sum = sum1 + sum2\n",
    "    total_count = count1 + count2\n",
    "\n",
    "    return (total_sum, total_count)"
   ]
  },
  {
   "cell_type": "code",
   "execution_count": 18,
   "metadata": {},
   "outputs": [
    {
     "name": "stdout",
     "output_type": "stream",
     "text": [
      "8.030000000000001 1.0517128885774862\n",
      "CPU times: user 28.7 ms, sys: 7.6 ms, total: 36.3 ms\n",
      "Wall time: 248 ms\n"
     ]
    }
   ],
   "source": [
    "%%time\n",
    "# map и reduce для расчета суммы и кол-ва оценок\n",
    "scores_data = reduce(reducer, map(mapper, Path('imdb-user-reviews').glob('**/*.json')))\n",
    "sum_scores, total_count = scores_data\n",
    "\n",
    "# среднее значение набора значений, переданных в функцию:  \n",
    "avg_ = sum_scores / total_count\n",
    "\n",
    "# дисперсия совокупности значений в столбце таблицы.\n",
    "sum_squares = reduce(lambda x, y: x + (y[0] - avg_) ** 2, map(mapper, Path('imdb-user-reviews').glob('**/*.json')), 0)\n",
    "\n",
    "# cтандартное отклонение()показатель того, насколько разбросаны значения в наборе данных)\n",
    "std_ = math.sqrt(sum_squares / total_count)\n",
    "\n",
    "print(mean, std_)"
   ]
  }
 ],
 "metadata": {
  "colab": {
   "provenance": []
  },
  "kernelspec": {
   "display_name": "Python 3 (ipykernel)",
   "language": "python",
   "name": "python3"
  },
  "language_info": {
   "codemirror_mode": {
    "name": "ipython",
    "version": 3
   },
   "file_extension": ".py",
   "mimetype": "text/x-python",
   "name": "python",
   "nbconvert_exporter": "python",
   "pygments_lexer": "ipython3",
   "version": "3.7.3"
  }
 },
 "nbformat": 4,
 "nbformat_minor": 4
}
