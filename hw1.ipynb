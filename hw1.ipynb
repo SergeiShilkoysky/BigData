{
  "cells": [
    {
      "cell_type": "markdown",
      "metadata": {
        "id": "view-in-github",
        "colab_type": "text"
      },
      "source": [
        "<a href=\"https://colab.research.google.com/github/SergeiShilkoysky/BigData/blob/main/hw1.ipynb\" target=\"_parent\"><img src=\"https://colab.research.google.com/assets/colab-badge.svg\" alt=\"Open In Colab\"/></a>"
      ]
    },
    {
      "cell_type": "markdown",
      "source": [
        "Задача: сделайте mapper и reducer, чтобы посчитать среднее и дисперсию оценок за фильм."
      ],
      "metadata": {
        "id": "dSCZYSMrTtEM"
      }
    },
    {
      "cell_type": "code",
      "source": [
        "!pip install opendatasets"
      ],
      "metadata": {
        "id": "1-iLZYG5JkTc",
        "colab": {
          "base_uri": "https://localhost:8080/"
        },
        "outputId": "b2da6048-ca8d-4e12-c95f-51b8a5887aac"
      },
      "execution_count": null,
      "outputs": [
        {
          "output_type": "stream",
          "name": "stdout",
          "text": [
            "Collecting opendatasets\n",
            "  Downloading opendatasets-0.1.22-py3-none-any.whl.metadata (9.2 kB)\n",
            "Requirement already satisfied: tqdm in /usr/local/lib/python3.10/dist-packages (from opendatasets) (4.66.5)\n",
            "Requirement already satisfied: kaggle in /usr/local/lib/python3.10/dist-packages (from opendatasets) (1.6.17)\n",
            "Requirement already satisfied: click in /usr/local/lib/python3.10/dist-packages (from opendatasets) (8.1.7)\n",
            "Requirement already satisfied: six>=1.10 in /usr/local/lib/python3.10/dist-packages (from kaggle->opendatasets) (1.16.0)\n",
            "Requirement already satisfied: certifi>=2023.7.22 in /usr/local/lib/python3.10/dist-packages (from kaggle->opendatasets) (2024.8.30)\n",
            "Requirement already satisfied: python-dateutil in /usr/local/lib/python3.10/dist-packages (from kaggle->opendatasets) (2.8.2)\n",
            "Requirement already satisfied: requests in /usr/local/lib/python3.10/dist-packages (from kaggle->opendatasets) (2.32.3)\n",
            "Requirement already satisfied: python-slugify in /usr/local/lib/python3.10/dist-packages (from kaggle->opendatasets) (8.0.4)\n",
            "Requirement already satisfied: urllib3 in /usr/local/lib/python3.10/dist-packages (from kaggle->opendatasets) (2.2.3)\n",
            "Requirement already satisfied: bleach in /usr/local/lib/python3.10/dist-packages (from kaggle->opendatasets) (6.1.0)\n",
            "Requirement already satisfied: webencodings in /usr/local/lib/python3.10/dist-packages (from bleach->kaggle->opendatasets) (0.5.1)\n",
            "Requirement already satisfied: text-unidecode>=1.3 in /usr/local/lib/python3.10/dist-packages (from python-slugify->kaggle->opendatasets) (1.3)\n",
            "Requirement already satisfied: charset-normalizer<4,>=2 in /usr/local/lib/python3.10/dist-packages (from requests->kaggle->opendatasets) (3.4.0)\n",
            "Requirement already satisfied: idna<4,>=2.5 in /usr/local/lib/python3.10/dist-packages (from requests->kaggle->opendatasets) (3.10)\n",
            "Downloading opendatasets-0.1.22-py3-none-any.whl (15 kB)\n",
            "Installing collected packages: opendatasets\n",
            "Successfully installed opendatasets-0.1.22\n"
          ]
        }
      ]
    },
    {
      "cell_type": "code",
      "execution_count": null,
      "metadata": {
        "id": "0PhWn1yjFd1L"
      },
      "outputs": [],
      "source": [
        "import opendatasets as od\n",
        "import pandas as pd\n",
        "import time\n",
        "from pathlib import Path"
      ]
    },
    {
      "cell_type": "code",
      "source": [
        "import json\n",
        "from functools import reduce"
      ],
      "metadata": {
        "id": "DBGNuitWJy4z"
      },
      "execution_count": null,
      "outputs": []
    },
    {
      "cell_type": "code",
      "execution_count": null,
      "metadata": {
        "id": "qeWSaWkZRFxY",
        "colab": {
          "base_uri": "https://localhost:8080/"
        },
        "outputId": "a38a3768-8529-4482-951f-8b6b84089592"
      },
      "outputs": [
        {
          "output_type": "stream",
          "name": "stdout",
          "text": [
            "Please provide your Kaggle credentials to download this dataset. Learn more: http://bit.ly/kaggle-creds\n",
            "Your Kaggle username: sergeishi\n",
            "Your Kaggle Key: ··········\n",
            "Dataset URL: https://www.kaggle.com/datasets/sadmadlad/imdb-user-reviews\n",
            "Downloading imdb-user-reviews.zip to ./imdb-user-reviews\n"
          ]
        },
        {
          "output_type": "stream",
          "name": "stderr",
          "text": [
            "100%|██████████| 15.1M/15.1M [00:00<00:00, 56.4MB/s]\n"
          ]
        },
        {
          "output_type": "stream",
          "name": "stdout",
          "text": [
            "\n"
          ]
        }
      ],
      "source": [
        "dataset_path = Path('imdb-user-reviews', 'song_lyrics.csv')\n",
        "if not dataset_path.is_file():\n",
        "    od.download('https://www.kaggle.com/datasets/sadmadlad/imdb-user-reviews')"
      ]
    },
    {
      "cell_type": "code",
      "source": [
        "!cat imdb-user-reviews/"
      ],
      "metadata": {
        "id": "F79sV9Iqxzq9",
        "colab": {
          "base_uri": "https://localhost:8080/"
        },
        "outputId": "dc7154b0-667c-4fcc-8fca-9a590236a7f6"
      },
      "execution_count": null,
      "outputs": [
        {
          "output_type": "stream",
          "name": "stdout",
          "text": [
            "{\"title\": \"Joker\", \"movieIMDbRating\": 8.4, \"totalRatingCount\": 1213550, \"totalUserReviews\": \"11.3K\", \"totalCriticReviews\": \"697\", \"metaScore\": \"59\", \"movieGenres\": [\"Crime\", \"Drama\", \"Thriller\"], \"directors\": [\"Todd Phillips\"], \"datePublished\": \"2019-10-04\", \"creators\": [\"Todd Phillips\", \"Scott Silver\", \"Bob Kane\"], \"mainStars\": [\"Joaquin Phoenix\", \"Robert De Niro\", \"Zazie Beetz\"], \"description\": \"A mentally troubled stand-up comedian embarks on a downward spiral that leads to the creation of an iconic villain.\", \"duration\": 122}"
          ]
        }
      ]
    },
    {
      "cell_type": "code",
      "source": [
        "def calc_mean_variance_movieScores():\n",
        "  n, mean, M2 = 0, 0.0, 0\n",
        "  for path in Path('imdb-user-reviews').glob('**/*'):\n",
        "      if path.is_file() and path.suffix == '.json':\n",
        "          with open(path, 'r') as f:\n",
        "              info = json.load(f)\n",
        "          score = float(info['movieIMDbRating'])\n",
        "          n += 1\n",
        "          delta = score - mean\n",
        "          mean += delta / n\n",
        "          M2 += delta * (score - mean)\n",
        "\n",
        "  print(mean, (M2 / n) ** (1/2))"
      ],
      "metadata": {
        "id": "znWLMJtDZcSt"
      },
      "execution_count": null,
      "outputs": []
    },
    {
      "cell_type": "code",
      "source": [
        "def mapper(path):\n",
        "    if path.is_file() and path.suffix == '.json':\n",
        "      with open(path, 'r') as f:\n",
        "        info = json.load(f)\n",
        "      return (float(info['movieIMDbRating']), )\n",
        "\n",
        "\n",
        "def reducer(score_data1, score_data2):\n",
        "    if score_data1 is None and score_data2 is None:\n",
        "      return None\n",
        "    elif score_data1 is None:\n",
        "      return score_data2\n",
        "    elif score_data2 is None:\n",
        "      return score_data1\n",
        "    else:\n",
        "      scores = []\n",
        "      if len(score_data1) == 1:\n",
        "        n, mean, M2 = 0, 0.0, 0\n",
        "        scores.append(score_data1[0])\n",
        "      else:\n",
        "        n, mean, M2 = score_data1\n",
        "      scores.append(score_data2[0])\n",
        "      for score in scores:\n",
        "        n += 1\n",
        "        delta = score - mean\n",
        "        mean += delta / n\n",
        "        M2 += delta * (score - mean)\n",
        "      return n, mean, M2"
      ],
      "metadata": {
        "id": "bJc0HshUx7Ed"
      },
      "execution_count": null,
      "outputs": []
    },
    {
      "cell_type": "code",
      "source": [
        "# @title Параллельная обработка с использованием map и reduce:\n",
        "%%time\n",
        "n, mean, M2 = reduce(reducer, map(mapper, Path('imdb-user-reviews').glob('**/*')))\n",
        "print(mean, (M2 / n) ** (1/2))"
      ],
      "metadata": {
        "colab": {
          "base_uri": "https://localhost:8080/"
        },
        "outputId": "81be6d32-fc1a-4c92-f348-562832a088cb",
        "id": "K-9ITkO-nvkg"
      },
      "execution_count": null,
      "outputs": [
        {
          "output_type": "stream",
          "name": "stdout",
          "text": [
            "8.030000000000001 1.0517128885774862\n",
            "CPU times: user 473 µs, sys: 4.22 ms, total: 4.69 ms\n",
            "Wall time: 4.77 ms\n"
          ]
        }
      ]
    },
    {
      "cell_type": "markdown",
      "source": [
        "Соберем mapper и reducer:"
      ],
      "metadata": {
        "id": "Ic09ccPLbMUR"
      }
    },
    {
      "cell_type": "code",
      "source": [
        "# @title Синхронный подход:\n",
        "%%time\n",
        "calc_mean_variance_movieScores()"
      ],
      "metadata": {
        "colab": {
          "base_uri": "https://localhost:8080/"
        },
        "id": "dw3x7rVqbM7D",
        "outputId": "2b96ca6d-b8c8-4fad-b70a-4c7e5b7e542a"
      },
      "execution_count": null,
      "outputs": [
        {
          "output_type": "stream",
          "name": "stdout",
          "text": [
            "8.030000000000001 1.0517128885774862\n",
            "CPU times: user 1.34 ms, sys: 991 µs, total: 2.33 ms\n",
            "Wall time: 2.33 ms\n"
          ]
        }
      ]
    },
    {
      "cell_type": "code",
      "source": [
        "# @title Параллельная обработка с использованием map и reduce:\n",
        "%%time\n",
        "n, mean, M2 = reduce(reducer, map(mapper, Path('imdb-user-reviews').glob('**/*')))\n",
        "print(mean, (M2 / n) ** (1/2))"
      ],
      "metadata": {
        "id": "aBa-fXxFg40_",
        "colab": {
          "base_uri": "https://localhost:8080/"
        },
        "outputId": "73e1f0d0-dbc1-4ee7-d018-5b38eff23874"
      },
      "execution_count": null,
      "outputs": [
        {
          "output_type": "stream",
          "name": "stdout",
          "text": [
            "8.030000000000001 1.0517128885774862\n",
            "CPU times: user 2.94 ms, sys: 623 µs, total: 3.56 ms\n",
            "Wall time: 3.36 ms\n"
          ]
        }
      ]
    },
    {
      "cell_type": "code",
      "source": [
        "from joblib import Parallel, delayed"
      ],
      "metadata": {
        "id": "2sX_l3yyWeu7"
      },
      "execution_count": null,
      "outputs": []
    },
    {
      "cell_type": "code",
      "source": [
        "# @title Параллельная обработка с помощью joblib:\n",
        "%%time\n",
        "n, mean, M2 = reduce(reducer, Parallel(n_jobs=2)(delayed(mapper)(path) for path in Path ('imdb-user-reviews').glob('**/*')))\n",
        "print(mean, (M2 / n) ** (1/2))"
      ],
      "metadata": {
        "id": "gR0mhnukHlI5",
        "colab": {
          "base_uri": "https://localhost:8080/"
        },
        "outputId": "3eb07f89-ceb0-4a9c-bc19-59e0ff987f3f"
      },
      "execution_count": null,
      "outputs": [
        {
          "output_type": "stream",
          "name": "stdout",
          "text": [
            "8.030000000000001 1.0517128885774862\n",
            "CPU times: user 13.1 ms, sys: 1.9 ms, total: 15 ms\n",
            "Wall time: 25.6 ms\n"
          ]
        }
      ]
    }
  ],
  "metadata": {
    "colab": {
      "provenance": [],
      "include_colab_link": true
    },
    "kernelspec": {
      "display_name": "Python 3",
      "name": "python3"
    },
    "language_info": {
      "name": "python"
    }
  },
  "nbformat": 4,
  "nbformat_minor": 0
}